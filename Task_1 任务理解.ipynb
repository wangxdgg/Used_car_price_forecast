{
 "cells": [
  {
   "cell_type": "markdown",
   "metadata": {},
   "source": [
    "# 赛题理解"
   ]
  },
  {
   "cell_type": "markdown",
   "metadata": {},
   "source": [
    "## 分析赛题\n",
    "\n",
    "1. 此题为传统的数据挖掘问题，通过数据科学以及机器学习深度学习的办法来进行建模得到结果。\n",
    "2. 此题是一个典型的回归问题。\n",
    "3. 主要应用xgb、lgb、catboost，以及pandas、numpy、matplotlib、seabon、sklearn、keras等等数据挖掘常用库或者框架来进行数据挖掘任务。\n",
    "4. 通过EDA来挖掘数据的联系和自我熟悉数据。\n",
    "\n",
    "评价指标：MAE\n"
   ]
  },
  {
   "cell_type": "markdown",
   "metadata": {},
   "source": [
    "### 导入数据"
   ]
  },
  {
   "cell_type": "code",
   "execution_count": 1,
   "metadata": {},
   "outputs": [],
   "source": [
    "import pandas as pd\n",
    "import numpy as np"
   ]
  },
  {
   "cell_type": "code",
   "execution_count": 2,
   "metadata": {},
   "outputs": [
    {
     "name": "stdout",
     "output_type": "stream",
     "text": [
      "The shape of train_data (150000, 31)\n",
      "The shape of test_data (50000, 30)\n"
     ]
    }
   ],
   "source": [
    "train_data = pd.read_csv(\"./data/used_car_train_20200313.csv\", sep=' ')\n",
    "test_data = pd.read_csv(\"./data/used_car_testA_20200313.csv\", sep=' ')\n",
    "print(\"The shape of train_data\", train_data.shape)\n",
    "print(\"The shape of test_data\", test_data.shape)"
   ]
  },
  {
   "cell_type": "markdown",
   "metadata": {},
   "source": [
    "训练数据共15万条，31个column，测试数据5万，30个column，训练集多出一列price"
   ]
  },
  {
   "cell_type": "markdown",
   "metadata": {},
   "source": [
    "**<font color=red>瞄一眼前10行</font>**"
   ]
  },
  {
   "cell_type": "code",
   "execution_count": 3,
   "metadata": {
    "scrolled": true
   },
   "outputs": [
    {
     "data": {
      "text/html": [
       "<div>\n",
       "<style scoped>\n",
       "    .dataframe tbody tr th:only-of-type {\n",
       "        vertical-align: middle;\n",
       "    }\n",
       "\n",
       "    .dataframe tbody tr th {\n",
       "        vertical-align: top;\n",
       "    }\n",
       "\n",
       "    .dataframe thead th {\n",
       "        text-align: right;\n",
       "    }\n",
       "</style>\n",
       "<table border=\"1\" class=\"dataframe\">\n",
       "  <thead>\n",
       "    <tr style=\"text-align: right;\">\n",
       "      <th></th>\n",
       "      <th>SaleID</th>\n",
       "      <th>name</th>\n",
       "      <th>regDate</th>\n",
       "      <th>model</th>\n",
       "      <th>brand</th>\n",
       "      <th>bodyType</th>\n",
       "      <th>fuelType</th>\n",
       "      <th>gearbox</th>\n",
       "      <th>power</th>\n",
       "      <th>kilometer</th>\n",
       "      <th>...</th>\n",
       "      <th>v_5</th>\n",
       "      <th>v_6</th>\n",
       "      <th>v_7</th>\n",
       "      <th>v_8</th>\n",
       "      <th>v_9</th>\n",
       "      <th>v_10</th>\n",
       "      <th>v_11</th>\n",
       "      <th>v_12</th>\n",
       "      <th>v_13</th>\n",
       "      <th>v_14</th>\n",
       "    </tr>\n",
       "  </thead>\n",
       "  <tbody>\n",
       "    <tr>\n",
       "      <th>0</th>\n",
       "      <td>0</td>\n",
       "      <td>736</td>\n",
       "      <td>20040402</td>\n",
       "      <td>30.0</td>\n",
       "      <td>6</td>\n",
       "      <td>1.0</td>\n",
       "      <td>0.0</td>\n",
       "      <td>0.0</td>\n",
       "      <td>60</td>\n",
       "      <td>12.5</td>\n",
       "      <td>...</td>\n",
       "      <td>0.235676</td>\n",
       "      <td>0.101988</td>\n",
       "      <td>0.129549</td>\n",
       "      <td>0.022816</td>\n",
       "      <td>0.097462</td>\n",
       "      <td>-2.881803</td>\n",
       "      <td>2.804097</td>\n",
       "      <td>-2.420821</td>\n",
       "      <td>0.795292</td>\n",
       "      <td>0.914762</td>\n",
       "    </tr>\n",
       "    <tr>\n",
       "      <th>1</th>\n",
       "      <td>1</td>\n",
       "      <td>2262</td>\n",
       "      <td>20030301</td>\n",
       "      <td>40.0</td>\n",
       "      <td>1</td>\n",
       "      <td>2.0</td>\n",
       "      <td>0.0</td>\n",
       "      <td>0.0</td>\n",
       "      <td>0</td>\n",
       "      <td>15.0</td>\n",
       "      <td>...</td>\n",
       "      <td>0.264777</td>\n",
       "      <td>0.121004</td>\n",
       "      <td>0.135731</td>\n",
       "      <td>0.026597</td>\n",
       "      <td>0.020582</td>\n",
       "      <td>-4.900482</td>\n",
       "      <td>2.096338</td>\n",
       "      <td>-1.030483</td>\n",
       "      <td>-1.722674</td>\n",
       "      <td>0.245522</td>\n",
       "    </tr>\n",
       "    <tr>\n",
       "      <th>2</th>\n",
       "      <td>2</td>\n",
       "      <td>14874</td>\n",
       "      <td>20040403</td>\n",
       "      <td>115.0</td>\n",
       "      <td>15</td>\n",
       "      <td>1.0</td>\n",
       "      <td>0.0</td>\n",
       "      <td>0.0</td>\n",
       "      <td>163</td>\n",
       "      <td>12.5</td>\n",
       "      <td>...</td>\n",
       "      <td>0.251410</td>\n",
       "      <td>0.114912</td>\n",
       "      <td>0.165147</td>\n",
       "      <td>0.062173</td>\n",
       "      <td>0.027075</td>\n",
       "      <td>-4.846749</td>\n",
       "      <td>1.803559</td>\n",
       "      <td>1.565330</td>\n",
       "      <td>-0.832687</td>\n",
       "      <td>-0.229963</td>\n",
       "    </tr>\n",
       "    <tr>\n",
       "      <th>3</th>\n",
       "      <td>3</td>\n",
       "      <td>71865</td>\n",
       "      <td>19960908</td>\n",
       "      <td>109.0</td>\n",
       "      <td>10</td>\n",
       "      <td>0.0</td>\n",
       "      <td>0.0</td>\n",
       "      <td>1.0</td>\n",
       "      <td>193</td>\n",
       "      <td>15.0</td>\n",
       "      <td>...</td>\n",
       "      <td>0.274293</td>\n",
       "      <td>0.110300</td>\n",
       "      <td>0.121964</td>\n",
       "      <td>0.033395</td>\n",
       "      <td>0.000000</td>\n",
       "      <td>-4.509599</td>\n",
       "      <td>1.285940</td>\n",
       "      <td>-0.501868</td>\n",
       "      <td>-2.438353</td>\n",
       "      <td>-0.478699</td>\n",
       "    </tr>\n",
       "    <tr>\n",
       "      <th>4</th>\n",
       "      <td>4</td>\n",
       "      <td>111080</td>\n",
       "      <td>20120103</td>\n",
       "      <td>110.0</td>\n",
       "      <td>5</td>\n",
       "      <td>1.0</td>\n",
       "      <td>0.0</td>\n",
       "      <td>0.0</td>\n",
       "      <td>68</td>\n",
       "      <td>5.0</td>\n",
       "      <td>...</td>\n",
       "      <td>0.228036</td>\n",
       "      <td>0.073205</td>\n",
       "      <td>0.091880</td>\n",
       "      <td>0.078819</td>\n",
       "      <td>0.121534</td>\n",
       "      <td>-1.896240</td>\n",
       "      <td>0.910783</td>\n",
       "      <td>0.931110</td>\n",
       "      <td>2.834518</td>\n",
       "      <td>1.923482</td>\n",
       "    </tr>\n",
       "    <tr>\n",
       "      <th>5</th>\n",
       "      <td>5</td>\n",
       "      <td>137642</td>\n",
       "      <td>20090602</td>\n",
       "      <td>24.0</td>\n",
       "      <td>10</td>\n",
       "      <td>0.0</td>\n",
       "      <td>1.0</td>\n",
       "      <td>0.0</td>\n",
       "      <td>109</td>\n",
       "      <td>10.0</td>\n",
       "      <td>...</td>\n",
       "      <td>0.260246</td>\n",
       "      <td>0.000518</td>\n",
       "      <td>0.119838</td>\n",
       "      <td>0.090922</td>\n",
       "      <td>0.048769</td>\n",
       "      <td>1.885526</td>\n",
       "      <td>-2.721943</td>\n",
       "      <td>2.457660</td>\n",
       "      <td>-0.286973</td>\n",
       "      <td>0.206573</td>\n",
       "    </tr>\n",
       "    <tr>\n",
       "      <th>6</th>\n",
       "      <td>6</td>\n",
       "      <td>2402</td>\n",
       "      <td>19990411</td>\n",
       "      <td>13.0</td>\n",
       "      <td>4</td>\n",
       "      <td>0.0</td>\n",
       "      <td>0.0</td>\n",
       "      <td>1.0</td>\n",
       "      <td>150</td>\n",
       "      <td>15.0</td>\n",
       "      <td>...</td>\n",
       "      <td>0.267998</td>\n",
       "      <td>0.117675</td>\n",
       "      <td>0.142334</td>\n",
       "      <td>0.025446</td>\n",
       "      <td>0.028174</td>\n",
       "      <td>-4.902200</td>\n",
       "      <td>1.610616</td>\n",
       "      <td>-0.834605</td>\n",
       "      <td>-1.996117</td>\n",
       "      <td>-0.103180</td>\n",
       "    </tr>\n",
       "    <tr>\n",
       "      <th>7</th>\n",
       "      <td>7</td>\n",
       "      <td>165346</td>\n",
       "      <td>19990706</td>\n",
       "      <td>26.0</td>\n",
       "      <td>14</td>\n",
       "      <td>1.0</td>\n",
       "      <td>0.0</td>\n",
       "      <td>0.0</td>\n",
       "      <td>101</td>\n",
       "      <td>15.0</td>\n",
       "      <td>...</td>\n",
       "      <td>0.239506</td>\n",
       "      <td>0.000000</td>\n",
       "      <td>0.122943</td>\n",
       "      <td>0.039839</td>\n",
       "      <td>0.082413</td>\n",
       "      <td>3.693829</td>\n",
       "      <td>-0.245014</td>\n",
       "      <td>-2.192810</td>\n",
       "      <td>0.236728</td>\n",
       "      <td>0.195567</td>\n",
       "    </tr>\n",
       "    <tr>\n",
       "      <th>8</th>\n",
       "      <td>8</td>\n",
       "      <td>2974</td>\n",
       "      <td>20030205</td>\n",
       "      <td>19.0</td>\n",
       "      <td>1</td>\n",
       "      <td>2.0</td>\n",
       "      <td>1.0</td>\n",
       "      <td>1.0</td>\n",
       "      <td>179</td>\n",
       "      <td>15.0</td>\n",
       "      <td>...</td>\n",
       "      <td>0.263833</td>\n",
       "      <td>0.116583</td>\n",
       "      <td>0.144255</td>\n",
       "      <td>0.039851</td>\n",
       "      <td>0.024388</td>\n",
       "      <td>-4.925234</td>\n",
       "      <td>1.587796</td>\n",
       "      <td>0.075348</td>\n",
       "      <td>-1.551098</td>\n",
       "      <td>0.069433</td>\n",
       "    </tr>\n",
       "    <tr>\n",
       "      <th>9</th>\n",
       "      <td>9</td>\n",
       "      <td>82021</td>\n",
       "      <td>19980101</td>\n",
       "      <td>7.0</td>\n",
       "      <td>7</td>\n",
       "      <td>5.0</td>\n",
       "      <td>0.0</td>\n",
       "      <td>0.0</td>\n",
       "      <td>88</td>\n",
       "      <td>15.0</td>\n",
       "      <td>...</td>\n",
       "      <td>0.262473</td>\n",
       "      <td>0.068267</td>\n",
       "      <td>0.012176</td>\n",
       "      <td>0.010291</td>\n",
       "      <td>0.098727</td>\n",
       "      <td>-1.089584</td>\n",
       "      <td>0.600683</td>\n",
       "      <td>-4.186210</td>\n",
       "      <td>0.198273</td>\n",
       "      <td>-1.025822</td>\n",
       "    </tr>\n",
       "  </tbody>\n",
       "</table>\n",
       "<p>10 rows × 31 columns</p>\n",
       "</div>"
      ],
      "text/plain": [
       "   SaleID    name   regDate  model  brand  bodyType  fuelType  gearbox  power  \\\n",
       "0       0     736  20040402   30.0      6       1.0       0.0      0.0     60   \n",
       "1       1    2262  20030301   40.0      1       2.0       0.0      0.0      0   \n",
       "2       2   14874  20040403  115.0     15       1.0       0.0      0.0    163   \n",
       "3       3   71865  19960908  109.0     10       0.0       0.0      1.0    193   \n",
       "4       4  111080  20120103  110.0      5       1.0       0.0      0.0     68   \n",
       "5       5  137642  20090602   24.0     10       0.0       1.0      0.0    109   \n",
       "6       6    2402  19990411   13.0      4       0.0       0.0      1.0    150   \n",
       "7       7  165346  19990706   26.0     14       1.0       0.0      0.0    101   \n",
       "8       8    2974  20030205   19.0      1       2.0       1.0      1.0    179   \n",
       "9       9   82021  19980101    7.0      7       5.0       0.0      0.0     88   \n",
       "\n",
       "   kilometer  ...       v_5       v_6       v_7       v_8       v_9      v_10  \\\n",
       "0       12.5  ...  0.235676  0.101988  0.129549  0.022816  0.097462 -2.881803   \n",
       "1       15.0  ...  0.264777  0.121004  0.135731  0.026597  0.020582 -4.900482   \n",
       "2       12.5  ...  0.251410  0.114912  0.165147  0.062173  0.027075 -4.846749   \n",
       "3       15.0  ...  0.274293  0.110300  0.121964  0.033395  0.000000 -4.509599   \n",
       "4        5.0  ...  0.228036  0.073205  0.091880  0.078819  0.121534 -1.896240   \n",
       "5       10.0  ...  0.260246  0.000518  0.119838  0.090922  0.048769  1.885526   \n",
       "6       15.0  ...  0.267998  0.117675  0.142334  0.025446  0.028174 -4.902200   \n",
       "7       15.0  ...  0.239506  0.000000  0.122943  0.039839  0.082413  3.693829   \n",
       "8       15.0  ...  0.263833  0.116583  0.144255  0.039851  0.024388 -4.925234   \n",
       "9       15.0  ...  0.262473  0.068267  0.012176  0.010291  0.098727 -1.089584   \n",
       "\n",
       "       v_11      v_12      v_13      v_14  \n",
       "0  2.804097 -2.420821  0.795292  0.914762  \n",
       "1  2.096338 -1.030483 -1.722674  0.245522  \n",
       "2  1.803559  1.565330 -0.832687 -0.229963  \n",
       "3  1.285940 -0.501868 -2.438353 -0.478699  \n",
       "4  0.910783  0.931110  2.834518  1.923482  \n",
       "5 -2.721943  2.457660 -0.286973  0.206573  \n",
       "6  1.610616 -0.834605 -1.996117 -0.103180  \n",
       "7 -0.245014 -2.192810  0.236728  0.195567  \n",
       "8  1.587796  0.075348 -1.551098  0.069433  \n",
       "9  0.600683 -4.186210  0.198273 -1.025822  \n",
       "\n",
       "[10 rows x 31 columns]"
      ]
     },
     "execution_count": 3,
     "metadata": {},
     "output_type": "execute_result"
    }
   ],
   "source": [
    "train_data.head(10)"
   ]
  },
  {
   "cell_type": "code",
   "execution_count": 4,
   "metadata": {
    "scrolled": true
   },
   "outputs": [
    {
     "data": {
      "text/plain": [
       "SaleID                 int64\n",
       "name                   int64\n",
       "regDate                int64\n",
       "model                float64\n",
       "brand                  int64\n",
       "bodyType             float64\n",
       "fuelType             float64\n",
       "gearbox              float64\n",
       "power                  int64\n",
       "kilometer            float64\n",
       "notRepairedDamage     object\n",
       "regionCode             int64\n",
       "seller                 int64\n",
       "offerType              int64\n",
       "creatDate              int64\n",
       "price                  int64\n",
       "v_0                  float64\n",
       "v_1                  float64\n",
       "v_2                  float64\n",
       "v_3                  float64\n",
       "v_4                  float64\n",
       "v_5                  float64\n",
       "v_6                  float64\n",
       "v_7                  float64\n",
       "v_8                  float64\n",
       "v_9                  float64\n",
       "v_10                 float64\n",
       "v_11                 float64\n",
       "v_12                 float64\n",
       "v_13                 float64\n",
       "v_14                 float64\n",
       "dtype: object"
      ]
     },
     "execution_count": 4,
     "metadata": {},
     "output_type": "execute_result"
    }
   ],
   "source": [
    "train_data.dtypes   # 看一下字段名字与类型"
   ]
  },
  {
   "cell_type": "markdown",
   "metadata": {},
   "source": [
    "**<font color=red>可以看到有以下字段</font>**<br>\n",
    "* name - 汽车编码\n",
    "* regDate - 汽车注册时间\n",
    "* model - 车型编码\n",
    "* brand - 品牌\n",
    "* bodyType - 车身类型\n",
    "* fuelType - 燃油类型\n",
    "* gearbox - 变速箱\n",
    "* power - 汽车功率\n",
    "* kilometer - 汽车行驶公里\n",
    "* notRepairedDamage - 汽车有尚未修复的损坏\n",
    "* regionCode - 看车地区编码\n",
    "* seller - 销售方\n",
    "* offerType - 报价类型\n",
    "* creatDate - 广告发布时间\n",
    "* price - 汽车价格\n",
    "* v_0', 'v_1', 'v_2', 'v_3', 'v_4', 'v_5', 'v_6', 'v_7', 'v_8', 'v_9', 'v_10', 'v_11', 'v_12', 'v_13','v_14'（根据汽车的评论、标签等大量信息得到的embedding向量）【人工构造 匿名特征】\n"
   ]
  },
  {
   "cell_type": "code",
   "execution_count": 5,
   "metadata": {
    "scrolled": true
   },
   "outputs": [
    {
     "data": {
      "text/plain": [
       "SaleID               150000\n",
       "name                 150000\n",
       "regDate              150000\n",
       "model                149999\n",
       "brand                150000\n",
       "bodyType             145494\n",
       "fuelType             141320\n",
       "gearbox              144019\n",
       "power                150000\n",
       "kilometer            150000\n",
       "notRepairedDamage    150000\n",
       "regionCode           150000\n",
       "seller               150000\n",
       "offerType            150000\n",
       "creatDate            150000\n",
       "price                150000\n",
       "v_0                  150000\n",
       "v_1                  150000\n",
       "v_2                  150000\n",
       "v_3                  150000\n",
       "v_4                  150000\n",
       "v_5                  150000\n",
       "v_6                  150000\n",
       "v_7                  150000\n",
       "v_8                  150000\n",
       "v_9                  150000\n",
       "v_10                 150000\n",
       "v_11                 150000\n",
       "v_12                 150000\n",
       "v_13                 150000\n",
       "v_14                 150000\n",
       "dtype: int64"
      ]
     },
     "execution_count": 5,
     "metadata": {},
     "output_type": "execute_result"
    }
   ],
   "source": [
    "train_data.count() # 检查是否有缺失值"
   ]
  },
  {
   "cell_type": "markdown",
   "metadata": {},
   "source": [
    "# 分类指标评价计算示例"
   ]
  },
  {
   "cell_type": "code",
   "execution_count": 6,
   "metadata": {},
   "outputs": [
    {
     "name": "stdout",
     "output_type": "stream",
     "text": [
      "ACC: 0.75\n"
     ]
    },
    {
     "data": {
      "text/plain": [
       "'\\nTP实际为正样本你预测为正样本，FN实际为正样本你预测为负样本，\\nFP实际为负样本你预测为正样本，TN实际为负样本你预测为负样本。\\nAccuracy=TP+TN/(TP+TN+FP+FN)\\n'"
      ]
     },
     "execution_count": 6,
     "metadata": {},
     "output_type": "execute_result"
    }
   ],
   "source": [
    "## accuracy 分类准确率分数\n",
    "import numpy as np\n",
    "from sklearn.metrics import accuracy_score\n",
    "y_pred = [0, 1, 0, 1]\n",
    "y_true = [0, 1, 1, 1]\n",
    "print('ACC:',accuracy_score(y_true, y_pred))    # 正确预测的数目/len(y_true)\n",
    "'''\n",
    "TP实际为正样本你预测为正样本，FN实际为正样本你预测为负样本，\n",
    "FP实际为负样本你预测为正样本，TN实际为负样本你预测为负样本。\n",
    "Accuracy=TP+TN/(TP+TN+FP+FN)\n",
    "'''"
   ]
  },
  {
   "cell_type": "code",
   "execution_count": 7,
   "metadata": {},
   "outputs": [
    {
     "name": "stdout",
     "output_type": "stream",
     "text": [
      "Precision 1.0\n",
      "Recall 0.5\n",
      "F1-score: 0.6666666666666666\n"
     ]
    },
    {
     "data": {
      "text/plain": [
       "'\\nPrecision=TP/(TP+FP)\\nRecall=TP/(TP+FN)\\nF1score=2∗Precision∗Recall/(Precision+Recall)\\n'"
      ]
     },
     "execution_count": 7,
     "metadata": {},
     "output_type": "execute_result"
    }
   ],
   "source": [
    "## Precision,Recall,F1-score\n",
    "from sklearn import metrics\n",
    "y_pred = [0, 1, 0, 0]\n",
    "y_true = [0, 1, 0, 1]\n",
    "print('Precision',metrics.precision_score(y_true, y_pred))   # 精确率\n",
    "print('Recall',metrics.recall_score(y_true, y_pred))       # 召回率\n",
    "print('F1-score:',metrics.f1_score(y_true, y_pred))        # F1分数，又称为平衡F分数（BalancedScore），定义为精确率和召回率的调和平均数。\n",
    "'''\n",
    "Precision=TP/(TP+FP)\n",
    "Recall=TP/(TP+FN)\n",
    "F1score=2∗Precision∗Recall/(Precision+Recall)\n",
    "'''"
   ]
  },
  {
   "cell_type": "code",
   "execution_count": 8,
   "metadata": {},
   "outputs": [
    {
     "name": "stdout",
     "output_type": "stream",
     "text": [
      "AUC socre: 0.75\n"
     ]
    }
   ],
   "source": [
    "## AUC\n",
    "import numpy as np\n",
    "from sklearn.metrics import roc_auc_score\n",
    "y_true = np.array([0, 0, 1, 1])\n",
    "y_scores = np.array([0.1, 0.4, 0.35, 0.8])\n",
    "print('AUC socre:',roc_auc_score(y_true, y_scores)) # AUC即ROC曲线下的面积，而ROC曲线的横轴是FPRate，纵轴是TPRate，当二者相等时，即y=x"
   ]
  },
  {
   "cell_type": "markdown",
   "metadata": {},
   "source": [
    "###  回归指标评价计算示例"
   ]
  },
  {
   "cell_type": "code",
   "execution_count": 9,
   "metadata": {},
   "outputs": [
    {
     "name": "stdout",
     "output_type": "stream",
     "text": [
      "MSE: 0.2871428571428571\n",
      "RMSE: 0.5358571238146014\n",
      "MAE: 0.4142857142857143\n",
      "MAPE: 0.1461904761904762\n"
     ]
    }
   ],
   "source": [
    "# coding=utf-8\n",
    "import numpy as np\n",
    "from sklearn import metrics\n",
    "\n",
    "# MAPE需要自己实现\n",
    "def mape(y_true, y_pred):\n",
    "    return np.mean(np.abs((y_pred - y_true) / y_true))\n",
    "\n",
    "y_true = np.array([1.0, 5.0, 4.0, 3.0, 2.0, 5.0, -3.0])\n",
    "y_pred = np.array([1.0, 4.5, 3.8, 3.2, 3.0, 4.8, -2.2])\n",
    "\n",
    "# MSE 均方误差\n",
    "print('MSE:',metrics.mean_squared_error(y_true, y_pred))\n",
    "# RMSE 均方根误差\n",
    "print('RMSE:',np.sqrt(metrics.mean_squared_error(y_true, y_pred)))\n",
    "# MAE  平均绝对误差\n",
    "print('MAE:',metrics.mean_absolute_error(y_true, y_pred))\n",
    "# MAPE 平均绝对百分比误差\n",
    "print('MAPE:',mape(y_true, y_pred))"
   ]
  },
  {
   "cell_type": "code",
   "execution_count": 10,
   "metadata": {},
   "outputs": [
    {
     "name": "stdout",
     "output_type": "stream",
     "text": [
      "MSE:  0.2871428571428571\n",
      "RMSE: 0.5358571238146014\n",
      "MAE: 0.4142857142857143\n",
      "MAPE: 0.1461904761904762\n"
     ]
    }
   ],
   "source": [
    "# 手动实现\n",
    "y_true = np.array([1.0, 5.0, 4.0, 3.0, 2.0, 5.0, -3.0])\n",
    "y_pred = np.array([1.0, 4.5, 3.8, 3.2, 3.0, 4.8, -2.2])\n",
    "\n",
    "# MSE 均方误差\n",
    "print(\"MSE: \", np.sum((y_true - y_pred) ** 2)/len(y_true))\n",
    "\n",
    "# RMSE 均方根误差\n",
    "print('RMSE:', np.sqrt(np.sum((y_true - y_pred) ** 2)/len(y_true)))\n",
    "\n",
    "# MAE  平均绝对误差\n",
    "print('MAE:', np.sum(np.absolute(y_true - y_pred))/len(y_true))\n",
    "\n",
    "# MAPE 平均绝对百分比误差\n",
    "print('MAPE:', np.sum(np.absolute((y_true - y_pred)/y_true))/len(y_true))\n",
    "\n"
   ]
  },
  {
   "cell_type": "code",
   "execution_count": 11,
   "metadata": {},
   "outputs": [
    {
     "name": "stdout",
     "output_type": "stream",
     "text": [
      "R2-score: 0.9486081370449679\n"
     ]
    }
   ],
   "source": [
    "## R2-score R方值\n",
    "from sklearn.metrics import r2_score\n",
    "y_true = [3, -0.5, 2, 7]\n",
    "y_pred = [2.5, 0.0, 2, 8]\n",
    "print('R2-score:',r2_score(y_true, y_pred))"
   ]
  },
  {
   "cell_type": "code",
   "execution_count": 12,
   "metadata": {},
   "outputs": [
    {
     "name": "stdout",
     "output_type": "stream",
     "text": [
      "R2-score: 0.9486081370449679\n"
     ]
    }
   ],
   "source": [
    "y_true = np.array([3, -0.5, 2, 7])\n",
    "y_pred = np.array([2.5, 0.0, 2, 8])\n",
    "\n",
    "print('R2-score:', 1 - np.sum((y_true - y_pred) ** 2)/len(y_true) / np.var(y_true) )\n"
   ]
  },
  {
   "cell_type": "code",
   "execution_count": null,
   "metadata": {},
   "outputs": [],
   "source": []
  }
 ],
 "metadata": {
  "kernelspec": {
   "display_name": "Python 3",
   "language": "python",
   "name": "python3"
  },
  "language_info": {
   "codemirror_mode": {
    "name": "ipython",
    "version": 3
   },
   "file_extension": ".py",
   "mimetype": "text/x-python",
   "name": "python",
   "nbconvert_exporter": "python",
   "pygments_lexer": "ipython3",
   "version": "3.7.6"
  }
 },
 "nbformat": 4,
 "nbformat_minor": 2
}
